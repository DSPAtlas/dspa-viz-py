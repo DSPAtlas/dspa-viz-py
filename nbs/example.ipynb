{
 "cells": [
  {
   "cell_type": "code",
   "execution_count": 1,
   "id": "1eea17eb",
   "metadata": {},
   "outputs": [
    {
     "name": "stderr",
     "output_type": "stream",
     "text": [
      "/Users/ekrismer/anaconda3/lib/python3.11/site-packages/pandas/core/arrays/masked.py:60: UserWarning: Pandas requires version '1.3.6' or newer of 'bottleneck' (version '1.3.5' currently installed).\n",
      "  from pandas.core import (\n"
     ]
    }
   ],
   "source": [
    "import dspa_viz_py \n",
    "import pandas as pd"
   ]
  },
  {
   "cell_type": "code",
   "execution_count": 2,
   "id": "d0daf613",
   "metadata": {},
   "outputs": [
    {
     "name": "stdout",
     "output_type": "stream",
     "text": [
      "6754\n"
     ]
    }
   ],
   "source": [
    "from Bio import SeqIO\n",
    "fasta_file = \"../data/170721_uniprot_Sce_HRMkit_PK_standards_plusASN.fasta\"\n",
    "yeast_proteins = set()\n",
    "handle = open(fasta_file, \"r\")\n",
    "fasta = list(SeqIO.parse(handle, \"fasta\"))\n",
    "for record in fasta:    yeast_proteins.add(record.id.split(\"|\")[1])\n",
    "handle.close()\n",
    "\n",
    "print(len(yeast_proteins))"
   ]
  },
  {
   "cell_type": "code",
   "execution_count": 3,
   "id": "b304fe82",
   "metadata": {},
   "outputs": [],
   "source": [
    "LiP_df = pd.read_csv('../data/example_diff_abundance_output.csv', \n",
    "                     sep = \",\")"
   ]
  },
  {
   "cell_type": "code",
   "execution_count": 4,
   "id": "ae5469f2",
   "metadata": {},
   "outputs": [
    {
     "name": "stdout",
     "output_type": "stream",
     "text": [
      "Found 3193 proteins in fasta file out of 3209 in proteins_file\n"
     ]
    }
   ],
   "source": [
    "proteins_in_file_fasta = []\n",
    "for record in fasta:\n",
    "    if record.id.split(\"|\")[1] in LiP_df.pg_protein_accessions.unique():\n",
    "        proteins_in_file_fasta.append(record)\n",
    "        \n",
    "print (\"Found %d proteins in fasta file out of %d in proteins_file\" % (len(proteins_in_file_fasta), len(LiP_df.pg_protein_accessions.unique())))\n",
    "proteins_in_file_fasta_dict = dict([(rec.id.split(\"|\")[1], rec) for rec in proteins_in_file_fasta])"
   ]
  },
  {
   "cell_type": "code",
   "execution_count": 5,
   "id": "898e71c0",
   "metadata": {},
   "outputs": [],
   "source": [
    "aa_seq = proteins_in_file_fasta_dict['P00925'].seq"
   ]
  },
  {
   "cell_type": "code",
   "execution_count": 6,
   "id": "4b673b09",
   "metadata": {},
   "outputs": [
    {
     "data": {
      "text/plain": [
       "Seq('MAVSKVYARSVYDSRGNPTVEVELTTEKGVFRSIVPSGASTGVHEALEMRDEDK...DKL')"
      ]
     },
     "execution_count": 6,
     "metadata": {},
     "output_type": "execute_result"
    }
   ],
   "source": [
    "aa_seq"
   ]
  },
  {
   "cell_type": "code",
   "execution_count": 7,
   "id": "9adf6bd3",
   "metadata": {},
   "outputs": [
    {
     "name": "stderr",
     "output_type": "stream",
     "text": [
      "/var/folders/sk/gdsgwx3176g0lybg31q6fx4w0000gq/T/ipykernel_18104/620393158.py:1: SettingWithCopyWarning: \n",
      "A value is trying to be set on a copy of a slice from a DataFrame\n",
      "\n",
      "See the caveats in the documentation: https://pandas.pydata.org/pandas-docs/stable/user_guide/indexing.html#returning-a-view-versus-a-copy\n",
      "  LiP_df[LiP_df.pg_protein_accessions == 'P00925'].sort_values('start', inplace=True)\n"
     ]
    }
   ],
   "source": [
    "LiP_df[LiP_df.pg_protein_accessions == 'P00925'].sort_values('start', inplace=True)"
   ]
  },
  {
   "cell_type": "code",
   "execution_count": 8,
   "id": "0e125dd2",
   "metadata": {},
   "outputs": [
    {
     "name": "stderr",
     "output_type": "stream",
     "text": [
      "/Users/ekrismer/Documents/GitHub/dspa-viz-py/dspa_viz_py/barcode.py:82: SettingWithCopyWarning: \n",
      "A value is trying to be set on a copy of a slice from a DataFrame\n",
      "\n",
      "See the caveats in the documentation: https://pandas.pydata.org/pandas-docs/stable/user_guide/indexing.html#returning-a-view-versus-a-copy\n",
      "  LiP_df[LiP_df.pg_protein_accessions == prot].sort_values('start', inplace=True)\n"
     ]
    },
    {
     "data": {
      "image/png": "[encoded data removed]",
      "text/plain": [
       "<Figure size 600x100 with 1 Axes>"
      ]
     },
     "execution_count": 8,
     "metadata": {},
     "output_type": "execute_result"
    },
    {
     "data": {
      "image/png": "[encoded data removed]",
      "text/plain": [
       "<Figure size 600x100 with 1 Axes>"
      ]
     },
     "metadata": {},
     "output_type": "display_data"
    }
   ],
   "source": [
    "dspa_viz_py.BarcodePlotter(\n",
    "    proteins_in_file_fasta_dict=proteins_in_file_fasta_dict,\n",
    "    organism_proteins=yeast_proteins\n",
    ").plot_dynamics_barcode('P25443', LiP_df, 0.05,1)"
   ]
  },
  {
   "cell_type": "code",
   "execution_count": 9,
   "id": "38808048",
   "metadata": {},
   "outputs": [
    {
     "name": "stderr",
     "output_type": "stream",
     "text": [
      "/Users/ekrismer/Documents/GitHub/dspa-viz-py/dspa_viz_py/barcode.py:82: SettingWithCopyWarning: \n",
      "A value is trying to be set on a copy of a slice from a DataFrame\n",
      "\n",
      "See the caveats in the documentation: https://pandas.pydata.org/pandas-docs/stable/user_guide/indexing.html#returning-a-view-versus-a-copy\n",
      "  LiP_df[LiP_df.pg_protein_accessions == prot].sort_values('start', inplace=True)\n"
     ]
    },
    {
     "data": {
      "image/png": "[encoded data removed]",
      "text/plain": [
       "<Figure size 600x100 with 1 Axes>"
      ]
     },
     "execution_count": 9,
     "metadata": {},
     "output_type": "execute_result"
    },
    {
     "data": {
      "image/png": "[encoded data removed]",
      "text/plain": [
       "<Figure size 600x100 with 1 Axes>"
      ]
     },
     "metadata": {},
     "output_type": "display_data"
    }
   ],
   "source": [
    "dspa_viz_py.BarcodePlotter(\n",
    "    proteins_in_file_fasta_dict=proteins_in_file_fasta_dict,\n",
    "    organism_proteins=yeast_proteins\n",
    ").plot_residuelevel_barcode('P25443', LiP_df, 0.05,1)"
   ]
  },
  {
   "cell_type": "code",
   "execution_count": null,
   "id": "08118d76",
   "metadata": {},
   "outputs": [],
   "source": []
  }
 ],
 "metadata": {
  "kernelspec": {
   "display_name": "Python 3 (ipykernel)",
   "language": "python",
   "name": "python3"
  },
  "language_info": {
   "codemirror_mode": {
    "name": "ipython",
    "version": 3
   },
   "file_extension": ".py",
   "mimetype": "text/x-python",
   "name": "python",
   "nbconvert_exporter": "python",
   "pygments_lexer": "ipython3",
   "version": "3.11.5"
  }
 },
 "nbformat": 4,
 "nbformat_minor": 5
}
